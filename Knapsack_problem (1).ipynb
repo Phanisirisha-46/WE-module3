{
  "cells": [
    {
      "cell_type": "markdown",
      "source": [
        "## Python code for 0/1 Knapsack Problem using Dynamic Programming:"
      ],
      "metadata": {
        "id": "e33TMGSHkVpr"
      }
    },
    {
      "cell_type": "code",
      "source": [
        "def knapsack(values, weights, capacity):\n",
        "  n = len(values)\n",
        "  dp = [[0 for _ in range(capacity + 1)] for _ in range(n + 1)]\n",
        "\n",
        "  # Build the DP table\n",
        "  for i in range(1, n + 1):\n",
        "    for j in range(1, capacity + 1):\n",
        "      if weights[i - 1] > j:\n",
        "        dp[i][j] = dp[i - 1][j]  # Exclude the item if weight exceeds capacity\n",
        "      else:\n",
        "        dp[i][j] = max(dp[i - 1][j], values[i - 1] + dp[i - 1][j - weights[i - 1]])  # Choose max value\n",
        "\n",
        "  return dp[n][capacity]  # Maximum value achievable\n",
        "\n",
        "\n",
        "print(f\"Maximum value achievable: {knapsack([60, 100, 120], [10, 20, 30], 50)}\")\n",
        "print()\n",
        "print(f\"Maximum value achievable: {knapsack([10, 40, 30, 50],[5, 10, 15, 20],100)}\")\n",
        "print()\n",
        "print(f\"Maximum value achievable: {knapsack([50, 70, 80],[10, 20, 30],10)}\")\n",
        "print()\n",
        "print(f\"Maximum value achievable: {knapsack([100, 50, 150],[30, 10, 20],60)}\")\n",
        "print()\n",
        "print(f\"Maximum value achievable: {knapsack([20, 50, 70],[10, 20, 30],90)}\")\n",
        "print()\n"
      ],
      "outputs": [
        {
          "output_type": "stream",
          "name": "stdout",
          "text": [
            "Maximum value achievable: 220\n",
            "\n",
            "Maximum value achievable: 130\n",
            "\n",
            "Maximum value achievable: 50\n",
            "\n",
            "Maximum value achievable: 300\n",
            "\n",
            "Maximum value achievable: 140\n",
            "\n"
          ]
        }
      ],
      "execution_count": 4,
      "metadata": {
        "colab": {
          "base_uri": "https://localhost:8080/"
        },
        "id": "0dgDegqKkVpv",
        "outputId": "e76bbe7a-bd1a-44b4-a359-3457980b4173"
      }
    },
    {
      "cell_type": "markdown",
      "source": [
        "This code defines a `knapsack` function that takes item values, weights, and capacity as input. It uses a 2D DP table to store the maximum value achievable with different knapsack capacities using a subset of items. Finally, it returns the maximum value achievable with the given capacity."
      ],
      "metadata": {
        "id": "KP4JaGT6kVpx"
      }
    },
    {
      "cell_type": "code",
      "source": [],
      "metadata": {
        "id": "R_DTv021kZ2M"
      },
      "execution_count": null,
      "outputs": []
    }
  ],
  "metadata": {
    "colab": {
      "provenance": []
    },
    "kernelspec": {
      "display_name": "Python 3",
      "name": "python3"
    }
  },
  "nbformat": 4,
  "nbformat_minor": 0
}