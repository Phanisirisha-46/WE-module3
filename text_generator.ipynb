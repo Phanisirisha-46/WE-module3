{
  "cells": [
    {
      "cell_type": "markdown",
      "source": [
        "Sure, here's the Python function you requested along with an explanation:"
      ],
      "metadata": {
        "id": "qahMtQOEmEkd"
      }
    },
    {
      "cell_type": "markdown",
      "source": [
        "Explanation:\n",
        "\n",
        "1. **Function Definition:**\n",
        "   - The function `generate` takes four arguments:\n",
        "     - `filename`: The filename of the text to use for training the model.\n",
        "     - `start_words`: A list of words to start the generated sentence with. This list should have the same length as `chain_length`.\n",
        "     - `chain_length`: The length of the Markov chain, which determines how many previous words are considered when predicting the next word.\n",
        "     - `num_generated`: The number of words to generate in the output sentence.\n",
        "   - The function returns a string containing the generated sentence.\n",
        "\n",
        "2. **Input Validation:**\n",
        "   - The function checks if the length of `start_words` is equal to `chain_length`. This ensures that the starting phrase has the same length as the context window used for prediction.\n",
        "\n",
        "3. **Reading Text and Splitting into Words:**\n",
        "   - The text is read from the file and split into a list of words.\n",
        "\n",
        "4. **Building the Transition Dictionary:**\n",
        "   - An empty dictionary `transitions` is created to store word transitions.\n",
        "   - The function iterates through the list of words, considering a window of `chain_length` words at a time.\n",
        "   - For each window (key), a list of possible next words (values) is stored in the dictionary.\n",
        "\n",
        "5. **Generating the Sentence:**\n",
        "   - The `sentence` list is initialized with the `start_words`.\n",
        "   - A loop iterates for `num_generated` times to generate the desired number of words.\n",
        "   - Inside the loop:\n",
        "     - The function retrieves the transition probabilities for the last `chain_length` words in the sentence (using `transitions.get`).\n",
        "     - If no chain is found (meaning the specific sequence of words hasn't appeared in the training text), a random word is chosen from the entire vocabulary (words list).\n",
        "     - Otherwise, a word is chosen based on"
      ],
      "metadata": {
        "id": "SiojeikQmEkk"
      }
    },
    {
      "cell_type": "code",
      "source": [
        "from google.colab import drive\n",
        "drive.mount('/content/drive')"
      ],
      "metadata": {
        "colab": {
          "base_uri": "https://localhost:8080/"
        },
        "id": "K4M76LVGxgZi",
        "outputId": "aa853220-26c2-4d85-f877-e99a11f78a53"
      },
      "execution_count": 15,
      "outputs": [
        {
          "output_type": "stream",
          "name": "stdout",
          "text": [
            "Drive already mounted at /content/drive; to attempt to forcibly remount, call drive.mount(\"/content/drive\", force_remount=True).\n"
          ]
        }
      ]
    },
    {
      "cell_type": "code",
      "source": [
        "import random\n",
        "\n",
        "\n",
        "def generate(filename: str, start_words: list[str], chain_length: int, num_generated: int) -> str:\n",
        "  \"\"\"\n",
        "  This function generates text that is similar to the text in a given file\n",
        "  using Markov chains.\n",
        "\n",
        "  Args:\n",
        "      filename: The name of the file to read the text from.\n",
        "      start_words: A list of words to start the generated sentence with.\n",
        "                   The length of this list must be equal to the chain_length.\n",
        "      chain_length: The length of the Markov chain (number of words to consider).\n",
        "      num_generated: The number of words to generate in the output sentence.\n",
        "\n",
        "  Returns:\n",
        "      A string containing a sentence generated using the Markov chain model.\n",
        "  \"\"\"\n",
        "\n",
        "  # Check if the length of start_words matches chain_length\n",
        "  if len(start_words) != chain_length:\n",
        "    raise ValueError(\"Length of start_words must be equal to chain_length\")\n",
        "\n",
        "  # Read the text from the file\n",
        "  with open(\"/content/drive/MyDrive/sample cases/sample.txt\", 'r') as f:\n",
        "    text = f.read()\n",
        "\n",
        "  # Split the text into words\n",
        "  words = text.split()\n",
        "\n",
        "  # Create a dictionary to store word transitions\n",
        "  transitions = {}\n",
        "  for i in range(len(words) - chain_length):\n",
        "    key = tuple(words[i:i+chain_length])\n",
        "    if key not in transitions:\n",
        "      transitions[key] = []\n",
        "    transitions[key].append(words[i+chain_length])\n",
        "\n",
        "  # Generate the sentence\n",
        "  sentence = start_words\n",
        "  for _ in range(num_generated):\n",
        "    # Get the next word based on the current chain\n",
        "    next_word_probs = transitions.get(tuple(sentence[-chain_length:]), [])\n",
        "    if not next_word_probs:\n",
        "      # If no chain is found, randomly choose a word from the entire text\n",
        "      sentence.append(random.choice(words))\n",
        "    else:\n",
        "      # Choose the next word based on the probability distribution\n",
        "      next_word = random.choices(next_word_probs)[0]\n",
        "      sentence.append(next_word)\n",
        "\n",
        "  return \" \".join(sentence)\n",
        "\n",
        "# Sample text file (replace with your own text file)\n",
        "sample_text = \"\"\"It was a dark and stormy night. The wind howled outside, rattling the windows and doors. Rain lashed against the panes, and thunder boomed in the distance. Inside, a young woman sat alone by the fireplace, a book open in her lap. But she wasn't reading. Her eyes were fixed on the flames, her brow furrowed in worry. She was waiting for her husband to return home.\"\"\"\n",
        "\n",
        "# Example usage\n",
        "filename = \"/content/drive/MyDrive/sample cases/sample.txt\"  # Replace with your actual filename (optional)\n",
        "start_words = [\"The\", \"sun\", \"was\"]  # List must be 3 words long (chain_length=3)\n",
        "chain_length = 3\n",
        "num_generated = 10\n",
        "\n",
        "generated_text = generate(filename, start_words, chain_length, num_generated)\n",
        "print(generated_text)\n"
      ],
      "metadata": {
        "id": "ZkigiLqvvs9c",
        "colab": {
          "base_uri": "https://localhost:8080/"
        },
        "outputId": "3dc89832-61dd-4476-b87c-52280c6f3bc6"
      },
      "execution_count": 16,
      "outputs": [
        {
          "output_type": "stream",
          "name": "stdout",
          "text": [
            "The sun was for a But the furrowed in alone home.\"\"\" sat doors.\n"
          ]
        }
      ]
    },
    {
      "cell_type": "code",
      "source": [
        " with open(\"/content/drive/MyDrive/sample cases/science.txt\", 'r') as f:\n",
        "    text = f.read()"
      ],
      "metadata": {
        "id": "dvarXr-Hz-X5"
      },
      "execution_count": 17,
      "outputs": []
    },
    {
      "cell_type": "code",
      "source": [
        "filename = \"/content/drive/MyDrive/sample cases/science.txt\"  # Replace with your actual filename (optional)\n",
        "start_words = [\"The\", \"sun\", \"was\"]  # List must be 3 words long (chain_length=3)\n",
        "chain_length = 3\n",
        "num_generated = 10\n",
        "\n",
        "generated_text = generate(filename, start_words, chain_length, num_generated)\n",
        "print(generated_text)"
      ],
      "metadata": {
        "colab": {
          "base_uri": "https://localhost:8080/"
        },
        "id": "IgDgVfQUwlw9",
        "outputId": "4dd81579-02e9-46f8-8c06-2d0e177a8529"
      },
      "execution_count": 18,
      "outputs": [
        {
          "output_type": "stream",
          "name": "stdout",
          "text": [
            "The sun was eyes dark howled = \"\"\"It her dark = Rain night.\n"
          ]
        }
      ]
    },
    {
      "cell_type": "code",
      "source": [
        " with open(\"/content/drive/MyDrive/sample cases/fiction.txt\", 'r') as f:\n",
        "    text = f.read()"
      ],
      "metadata": {
        "id": "wu5o0TBv09OG"
      },
      "execution_count": 19,
      "outputs": []
    },
    {
      "cell_type": "code",
      "source": [
        " with open(\"/content/drive/MyDrive/sample cases/haiku.txt\", 'r') as f:\n",
        "    text = f.read()"
      ],
      "metadata": {
        "id": "4ePZ3FLF0_F8"
      },
      "execution_count": 20,
      "outputs": []
    },
    {
      "cell_type": "code",
      "source": [
        " with open(\"/content/drive/MyDrive/sample cases/fable.txt\", 'r') as f:\n",
        "    text = f.read()"
      ],
      "metadata": {
        "id": "k5lsAps-0_w-"
      },
      "execution_count": 21,
      "outputs": []
    },
    {
      "cell_type": "code",
      "source": [
        "filename = \"/content/drive/MyDrive/sample cases/fable.txt\"  # Replace with your actual filename (optional)\n",
        "start_words = [\"The\", \"sun\", \"was\"]  # List must be 3 words long (chain_length=3)\n",
        "chain_length = 3\n",
        "num_generated = 10\n",
        "\n",
        "generated_text = generate(filename, start_words, chain_length, num_generated)\n",
        "print(generated_text)"
      ],
      "metadata": {
        "colab": {
          "base_uri": "https://localhost:8080/"
        },
        "id": "zQQba4wC1LkH",
        "outputId": "01e6cdc4-b10c-424f-db3b-dfc17a970cc3"
      },
      "execution_count": 22,
      "outputs": [
        {
          "output_type": "stream",
          "name": "stdout",
          "text": [
            "The sun was distance. fireplace, return the thunder wind and she for was\n"
          ]
        }
      ]
    },
    {
      "cell_type": "code",
      "source": [
        "filename = \"/content/drive/MyDrive/sample cases/haiku.txt\"  # Replace with your actual filename (optional)\n",
        "start_words = [\"The\", \"sun\", \"was\"]  # List must be 3 words long (chain_length=3)\n",
        "chain_length = 3\n",
        "num_generated = 10\n",
        "\n",
        "generated_text = generate(filename, start_words, chain_length, num_generated)\n",
        "print(generated_text)"
      ],
      "metadata": {
        "colab": {
          "base_uri": "https://localhost:8080/"
        },
        "id": "8E6B252u1MLq",
        "outputId": "997194a0-96f3-439b-bdd1-905ef2f3bec9"
      },
      "execution_count": 23,
      "outputs": [
        {
          "output_type": "stream",
          "name": "stdout",
          "text": [
            "The sun was worry. in lap. by a in in were boomed a\n"
          ]
        }
      ]
    },
    {
      "cell_type": "code",
      "source": [
        "filename = \"/content/drive/MyDrive/sample cases/fiction.txt\"  # Replace with your actual filename (optional)\n",
        "start_words = [\"The\", \"sun\", \"was\"]  # List must be 3 words long (chain_length=3)\n",
        "chain_length = 3\n",
        "num_generated = 10\n",
        "\n",
        "generated_text = generate(filename, start_words, chain_length, num_generated)\n",
        "print(generated_text)"
      ],
      "metadata": {
        "colab": {
          "base_uri": "https://localhost:8080/"
        },
        "id": "8FA9GKT21NHQ",
        "outputId": "032a2c08-57ec-4e93-ef84-d0a374a3fe89"
      },
      "execution_count": 24,
      "outputs": [
        {
          "output_type": "stream",
          "name": "stdout",
          "text": [
            "The sun was in eyes thunder \"\"\"It = and by the fireplace, a\n"
          ]
        }
      ]
    }
  ],
  "metadata": {
    "colab": {
      "provenance": []
    },
    "kernelspec": {
      "display_name": "Python 3",
      "name": "python3"
    }
  },
  "nbformat": 4,
  "nbformat_minor": 0
}